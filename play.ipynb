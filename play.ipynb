{
 "cells": [
  {
   "cell_type": "code",
   "execution_count": 20,
   "metadata": {},
   "outputs": [],
   "source": [
    "from sage.all import *\n",
    "from collections import deque"
   ]
  },
  {
   "cell_type": "code",
   "execution_count": 26,
   "metadata": {},
   "outputs": [],
   "source": [
    "TQDM_ON = True\n",
    "if TQDM_ON:\n",
    "    from tqdm import tqdm"
   ]
  },
  {
   "cell_type": "code",
   "execution_count": 30,
   "metadata": {},
   "outputs": [],
   "source": [
    "def fast_pairwise_gcd_helper_recursive(nums:list):\n",
    "    length = len(nums)\n",
    "    if length<2:\n",
    "        raise ValueError\n",
    "\n",
    "    nums_sage = list(map(lambda x:Integer(x),nums))\n",
    "    nums_square = list(map(lambda x:x**2,nums_sage))\n",
    "\n",
    "    total_product = Integer(1)\n",
    "    for num_s in nums_sage:\n",
    "        total_product*=num_s\n",
    "    \n",
    "    sq_product_table = dict()\n",
    "    def calculate_square(l,r):\n",
    "        if l==r:\n",
    "            sq_product_table[(l,l)]=nums_square[l]\n",
    "            return\n",
    "        m = (l+r)>>1\n",
    "        calculate_square(l,m)\n",
    "        l_res = sq_product_table[(l,m)]\n",
    "        calculate_square(m+1,r)\n",
    "        r_res = sq_product_table[(m+1,r)]\n",
    "        sq_product_table[(l,r)] = l_res*r_res\n",
    "    calculate_square(0,length-1)\n",
    "\n",
    "    mod_ni_square = [None]*length\n",
    "    def calculate_mode_ni_square(previous_mod_res,l,r):\n",
    "        this_mod_res = previous_mod_res%sq_product_table[(l,r)]\n",
    "        if l==r:\n",
    "            mod_ni_square[l] = this_mod_res\n",
    "            return\n",
    "        m = (l+r)>>1\n",
    "        calculate_mode_ni_square(this_mod_res,l,m)\n",
    "        calculate_mode_ni_square(this_mod_res,m+1,r)\n",
    "    m = (0+length-1)>>1\n",
    "    calculate_mode_ni_square(total_product,0,m)\n",
    "    calculate_mode_ni_square(total_product,m+1,length-1)\n",
    "\n",
    "    return list(gcd(nums_sage[i],mod_ni_square[i]//nums_sage[i]) for i in range(length))\n",
    "\n",
    "\n",
    "\n"
   ]
  },
  {
   "cell_type": "code",
   "execution_count": 40,
   "metadata": {},
   "outputs": [],
   "source": [
    "def fast_pairwise_gcd_helper(nums:list):\n",
    "    length = len(nums)\n",
    "    if length<2:\n",
    "        raise ValueError\n",
    "    length_padded = 0\n",
    "    for i in range(32):\n",
    "        if (1<<i)>=length:\n",
    "            length_padded = 1<<i\n",
    "            break\n",
    "    nums+=[1]*(length_padded-length)\n",
    "    origin_len,length = length,length_padded\n",
    "\n",
    "    nums_sage = list(map(lambda x:Integer(x),nums))\n",
    "    nums_square = list(map(lambda x:x**2,nums_sage))\n",
    "\n",
    "    total_product = Integer(1)\n",
    "    for num_s in (tqdm(nums_sage) if TQDM_ON else nums_sage):\n",
    "        total_product*=num_s\n",
    "\n",
    "    index_pair_list = list()\n",
    "    bfs_queue = deque([(0,length-1)])\n",
    "    while len(bfs_queue)>0:\n",
    "        i_pair = bfs_queue.popleft()\n",
    "        index_pair_list.append(i_pair)\n",
    "        l,r=i_pair\n",
    "        if l<r:\n",
    "            m=(l+r)>>1\n",
    "            bfs_queue.append((l,m))\n",
    "            bfs_queue.append((m+1,r))\n",
    "    # print(index_pair_list)\n",
    "    \n",
    "    sq_product_table = [0]*len(index_pair_list)\n",
    "    irange = range(len(index_pair_list)-1,-1,-1)\n",
    "    if TQDM_ON:\n",
    "        irange = tqdm(irange)\n",
    "    for i in irange:\n",
    "        l,r = index_pair_list[i]\n",
    "        if l==r:\n",
    "            sq_product_table[i] = nums_square[l]\n",
    "        else:\n",
    "            sq_product_table[i] = sq_product_table[2*i+1]*sq_product_table[2*i+2]\n",
    "\n",
    "    mod_ni_square_table = [0]*len(index_pair_list)\n",
    "    mod_ni_square_table[0] = total_product\n",
    "    irange = range(1,len(index_pair_list))\n",
    "    if TQDM_ON:\n",
    "        irange = tqdm(irange)\n",
    "    for i in irange:\n",
    "        mod_ni_square_table[i] = mod_ni_square_table[(i-1)>>1]%sq_product_table[i]\n",
    "    \n",
    "    mod_ni_square = [0]*length\n",
    "    for i in range(len(index_pair_list)-1,-1,-1):\n",
    "        l,r = index_pair_list[i]\n",
    "        if l<r:\n",
    "            break\n",
    "        mod_ni_square[l] = mod_ni_square_table[i]\n",
    "    \n",
    "    return list(gcd(nums_sage[i],mod_ni_square[i]//nums_sage[i]) for i in range(length))[:origin_len]\n"
   ]
  },
  {
   "cell_type": "code",
   "execution_count": 33,
   "metadata": {},
   "outputs": [
    {
     "name": "stderr",
     "output_type": "stream",
     "text": [
      "100%|██████████| 15/15 [00:00<00:00, 175738.99it/s]\n",
      "100%|██████████| 14/14 [00:00<00:00, 170698.42it/s]\n"
     ]
    },
    {
     "data": {
      "text/plain": [
       "[3, 3, 1, 1, 1]"
      ]
     },
     "execution_count": 33,
     "metadata": {},
     "output_type": "execute_result"
    }
   ],
   "source": [
    "fast_pairwise_gcd_helper([6,9,11,17,13])"
   ]
  },
  {
   "cell_type": "code",
   "execution_count": 34,
   "metadata": {},
   "outputs": [
    {
     "name": "stdout",
     "output_type": "stream",
     "text": [
      "[1, 1, 101, 101, 1, 1]\n"
     ]
    },
    {
     "name": "stderr",
     "output_type": "stream",
     "text": [
      "100%|██████████| 15/15 [00:00<00:00, 173797.13it/s]\n",
      "100%|██████████| 14/14 [00:00<00:00, 109145.46it/s]"
     ]
    },
    {
     "name": "stdout",
     "output_type": "stream",
     "text": [
      "[1, 1, 101, 101, 1, 1]\n"
     ]
    },
    {
     "name": "stderr",
     "output_type": "stream",
     "text": [
      "\n"
     ]
    }
   ],
   "source": [
    "l = [17,13,101*2,101*3,61,79]\n",
    "print(fast_pairwise_gcd_helper_recursive(l))\n",
    "print(fast_pairwise_gcd_helper(l))"
   ]
  },
  {
   "cell_type": "code",
   "execution_count": 37,
   "metadata": {},
   "outputs": [],
   "source": [
    "with open(\"./moduli.sorted\") as fin:\n",
    "    lines = fin.readlines()\n",
    "    ns = list(map(lambda line:int(line.strip(),16),lines))"
   ]
  },
  {
   "cell_type": "code",
   "execution_count": 43,
   "metadata": {},
   "outputs": [
    {
     "name": "stderr",
     "output_type": "stream",
     "text": [
      "100%|██████████| 131072/131072 [18:37<00:00, 117.28it/s]\n"
     ]
    }
   ],
   "source": [
    "nums = ns\n",
    "\n",
    "length = len(nums)\n",
    "if length<2:\n",
    "    raise ValueError\n",
    "length_padded = 0\n",
    "for i in range(32):\n",
    "    if (1<<i)>=length:\n",
    "        length_padded = 1<<i\n",
    "        break\n",
    "nums+=[1]*(length_padded-length)\n",
    "origin_len,length = length,length_padded\n",
    "\n",
    "nums_sage = list(map(lambda x:Integer(x),nums))\n",
    "nums_square = list(map(lambda x:x**2,nums_sage))\n",
    "\n",
    "# total_product = Integer(1)\n",
    "# for num_s in (tqdm(nums_sage) if TQDM_ON else nums_sage):\n",
    "#     total_product*=num_s"
   ]
  },
  {
   "cell_type": "code",
   "execution_count": 45,
   "metadata": {},
   "outputs": [
    {
     "data": {
      "text/plain": [
       "30738564"
      ]
     },
     "execution_count": 45,
     "metadata": {},
     "output_type": "execute_result"
    }
   ],
   "source": [
    "# len(str(total_product))"
   ]
  },
  {
   "cell_type": "code",
   "execution_count": 56,
   "metadata": {},
   "outputs": [
    {
     "name": "stderr",
     "output_type": "stream",
     "text": [
      "100%|██████████| 262143/262143 [00:06<00:00, 40778.43it/s]  \n"
     ]
    }
   ],
   "source": [
    "index_pair_list = list()\n",
    "bfs_queue = deque([(0,length-1)])\n",
    "while len(bfs_queue)>0:\n",
    "    i_pair = bfs_queue.popleft()\n",
    "    index_pair_list.append(i_pair)\n",
    "    l,r=i_pair\n",
    "    if l<r:\n",
    "        m=(l+r)>>1\n",
    "        bfs_queue.append((l,m))\n",
    "        bfs_queue.append((m+1,r))\n",
    "# print(index_pair_list)\n",
    "    \n",
    "sq_product_table = [0]*len(index_pair_list)\n",
    "irange = range(len(index_pair_list)-1,-1,-1)\n",
    "if TQDM_ON:\n",
    "    irange = tqdm(irange)\n",
    "for i in irange:\n",
    "    l,r = index_pair_list[i]\n",
    "    if l==r:\n",
    "        sq_product_table[i] = nums_square[l]\n",
    "    else:\n",
    "        sq_product_table[i] = sq_product_table[2*i+1]*sq_product_table[2*i+2]\n"
   ]
  },
  {
   "cell_type": "code",
   "execution_count": 57,
   "metadata": {},
   "outputs": [
    {
     "name": "stderr",
     "output_type": "stream",
     "text": [
      "100%|██████████| 262143/262143 [00:02<00:00, 87525.06it/s]  \n"
     ]
    }
   ],
   "source": [
    "product_table = [0]*len(index_pair_list)\n",
    "irange = range(len(index_pair_list)-1,-1,-1)\n",
    "if TQDM_ON:\n",
    "    irange = tqdm(irange)\n",
    "for i in irange:\n",
    "    l,r = index_pair_list[i]\n",
    "    if l==r:\n",
    "        product_table[i] = nums_sage[l]\n",
    "    else:\n",
    "        product_table[i] = product_table[2*i+1]*product_table[2*i+2]"
   ]
  },
  {
   "cell_type": "code",
   "execution_count": 59,
   "metadata": {},
   "outputs": [],
   "source": [
    "total_product=product_table[0]"
   ]
  },
  {
   "cell_type": "code",
   "execution_count": 48,
   "metadata": {},
   "outputs": [
    {
     "data": {
      "text/plain": [
       "61477127"
      ]
     },
     "execution_count": 48,
     "metadata": {},
     "output_type": "execute_result"
    }
   ],
   "source": [
    "len(str(sq_product_table[0]))"
   ]
  },
  {
   "cell_type": "code",
   "execution_count": 47,
   "metadata": {},
   "outputs": [
    {
     "name": "stderr",
     "output_type": "stream",
     "text": [
      "100%|██████████| 262142/262142 [00:27<00:00, 9627.67it/s]  \n"
     ]
    }
   ],
   "source": [
    "mod_ni_square_table = [0]*len(index_pair_list)\n",
    "mod_ni_square_table[0] = total_product\n",
    "irange = range(1,len(index_pair_list))\n",
    "if TQDM_ON:\n",
    "    irange = tqdm(irange)\n",
    "for i in irange:\n",
    "    mod_ni_square_table[i] = mod_ni_square_table[(i-1)>>1]%sq_product_table[i]\n",
    "    \n",
    "mod_ni_square = [0]*length\n",
    "for i in range(len(index_pair_list)-1,-1,-1):\n",
    "    l,r = index_pair_list[i]\n",
    "    if l<r:\n",
    "        break\n",
    "    mod_ni_square[l] = mod_ni_square_table[i]\n",
    "    \n",
    "gcd_helper_res= list(gcd(nums_sage[i],mod_ni_square[i]//nums_sage[i]) for i in range(length))[:origin_len]"
   ]
  },
  {
   "cell_type": "code",
   "execution_count": 50,
   "metadata": {},
   "outputs": [],
   "source": [
    "have_gcd_lines_i = list()\n",
    "\n",
    "for i,r in enumerate(gcd_helper_res):\n",
    "    if r>1:\n",
    "        have_gcd_lines_i.append(i)"
   ]
  },
  {
   "cell_type": "code",
   "execution_count": 51,
   "metadata": {},
   "outputs": [
    {
     "data": {
      "text/plain": [
       "[71679, 81922]"
      ]
     },
     "execution_count": 51,
     "metadata": {},
     "output_type": "execute_result"
    }
   ],
   "source": [
    "have_gcd_lines_i"
   ]
  },
  {
   "cell_type": "code",
   "execution_count": 52,
   "metadata": {},
   "outputs": [],
   "source": [
    "a,b = have_gcd_lines_i"
   ]
  },
  {
   "cell_type": "code",
   "execution_count": 63,
   "metadata": {},
   "outputs": [],
   "source": [
    "n_a,n_b = int(lines[a],16),int(lines[b],16)"
   ]
  },
  {
   "cell_type": "code",
   "execution_count": 66,
   "metadata": {},
   "outputs": [],
   "source": [
    "p = int(gcd(n_a,n_b))"
   ]
  },
  {
   "cell_type": "code",
   "execution_count": 68,
   "metadata": {},
   "outputs": [],
   "source": [
    "q_a = n_a//p\n",
    "q_b = n_b//p"
   ]
  },
  {
   "cell_type": "code",
   "execution_count": 67,
   "metadata": {},
   "outputs": [
    {
     "data": {
      "text/plain": [
       "int"
      ]
     },
     "execution_count": 67,
     "metadata": {},
     "output_type": "execute_result"
    }
   ],
   "source": []
  }
 ],
 "metadata": {
  "kernelspec": {
   "display_name": "sage",
   "language": "python",
   "name": "python3"
  },
  "language_info": {
   "codemirror_mode": {
    "name": "ipython",
    "version": 3
   },
   "file_extension": ".py",
   "mimetype": "text/x-python",
   "name": "python",
   "nbconvert_exporter": "python",
   "pygments_lexer": "ipython3",
   "version": "3.9.18"
  }
 },
 "nbformat": 4,
 "nbformat_minor": 2
}
