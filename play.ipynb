{
 "cells": [
  {
   "cell_type": "code",
   "execution_count": 71,
   "metadata": {},
   "outputs": [],
   "source": [
    "from sage.all import *\n",
    "import struct\n",
    "import re\n",
    "import base64\n",
    "from collections import deque\n",
    "from Crypto.PublicKey import RSA\n",
    "from Crypto.Cipher import AES\n",
    "from Crypto import Random\n",
    "from Crypto.Cipher import PKCS1_v1_5"
   ]
  },
  {
   "cell_type": "code",
   "execution_count": 26,
   "metadata": {},
   "outputs": [],
   "source": [
    "TQDM_ON = True\n",
    "if TQDM_ON:\n",
    "    from tqdm import tqdm"
   ]
  },
  {
   "cell_type": "code",
   "execution_count": 30,
   "metadata": {},
   "outputs": [],
   "source": [
    "def fast_pairwise_gcd_helper_recursive(nums:list):\n",
    "    length = len(nums)\n",
    "    if length<2:\n",
    "        raise ValueError\n",
    "\n",
    "    nums_sage = list(map(lambda x:Integer(x),nums))\n",
    "    nums_square = list(map(lambda x:x**2,nums_sage))\n",
    "\n",
    "    total_product = Integer(1)\n",
    "    for num_s in nums_sage:\n",
    "        total_product*=num_s\n",
    "    \n",
    "    sq_product_table = dict()\n",
    "    def calculate_square(l,r):\n",
    "        if l==r:\n",
    "            sq_product_table[(l,l)]=nums_square[l]\n",
    "            return\n",
    "        m = (l+r)>>1\n",
    "        calculate_square(l,m)\n",
    "        l_res = sq_product_table[(l,m)]\n",
    "        calculate_square(m+1,r)\n",
    "        r_res = sq_product_table[(m+1,r)]\n",
    "        sq_product_table[(l,r)] = l_res*r_res\n",
    "    calculate_square(0,length-1)\n",
    "\n",
    "    mod_ni_square = [None]*length\n",
    "    def calculate_mode_ni_square(previous_mod_res,l,r):\n",
    "        this_mod_res = previous_mod_res%sq_product_table[(l,r)]\n",
    "        if l==r:\n",
    "            mod_ni_square[l] = this_mod_res\n",
    "            return\n",
    "        m = (l+r)>>1\n",
    "        calculate_mode_ni_square(this_mod_res,l,m)\n",
    "        calculate_mode_ni_square(this_mod_res,m+1,r)\n",
    "    m = (0+length-1)>>1\n",
    "    calculate_mode_ni_square(total_product,0,m)\n",
    "    calculate_mode_ni_square(total_product,m+1,length-1)\n",
    "\n",
    "    return list(gcd(nums_sage[i],mod_ni_square[i]//nums_sage[i]) for i in range(length))\n",
    "\n",
    "\n",
    "\n"
   ]
  },
  {
   "cell_type": "code",
   "execution_count": 40,
   "metadata": {},
   "outputs": [],
   "source": [
    "def fast_pairwise_gcd_helper(nums:list):\n",
    "    length = len(nums)\n",
    "    if length<2:\n",
    "        raise ValueError\n",
    "    length_padded = 0\n",
    "    for i in range(32):\n",
    "        if (1<<i)>=length:\n",
    "            length_padded = 1<<i\n",
    "            break\n",
    "    nums+=[1]*(length_padded-length)\n",
    "    origin_len,length = length,length_padded\n",
    "\n",
    "    nums_sage = list(map(lambda x:Integer(x),nums))\n",
    "    nums_square = list(map(lambda x:x**2,nums_sage))\n",
    "\n",
    "    total_product = Integer(1)\n",
    "    for num_s in (tqdm(nums_sage) if TQDM_ON else nums_sage):\n",
    "        total_product*=num_s\n",
    "\n",
    "    index_pair_list = list()\n",
    "    bfs_queue = deque([(0,length-1)])\n",
    "    while len(bfs_queue)>0:\n",
    "        i_pair = bfs_queue.popleft()\n",
    "        index_pair_list.append(i_pair)\n",
    "        l,r=i_pair\n",
    "        if l<r:\n",
    "            m=(l+r)>>1\n",
    "            bfs_queue.append((l,m))\n",
    "            bfs_queue.append((m+1,r))\n",
    "    # print(index_pair_list)\n",
    "    \n",
    "    sq_product_table = [0]*len(index_pair_list)\n",
    "    irange = range(len(index_pair_list)-1,-1,-1)\n",
    "    if TQDM_ON:\n",
    "        irange = tqdm(irange)\n",
    "    for i in irange:\n",
    "        l,r = index_pair_list[i]\n",
    "        if l==r:\n",
    "            sq_product_table[i] = nums_square[l]\n",
    "        else:\n",
    "            sq_product_table[i] = sq_product_table[2*i+1]*sq_product_table[2*i+2]\n",
    "\n",
    "    mod_ni_square_table = [0]*len(index_pair_list)\n",
    "    mod_ni_square_table[0] = total_product\n",
    "    irange = range(1,len(index_pair_list))\n",
    "    if TQDM_ON:\n",
    "        irange = tqdm(irange)\n",
    "    for i in irange:\n",
    "        mod_ni_square_table[i] = mod_ni_square_table[(i-1)>>1]%sq_product_table[i]\n",
    "    \n",
    "    mod_ni_square = [0]*length\n",
    "    for i in range(len(index_pair_list)-1,-1,-1):\n",
    "        l,r = index_pair_list[i]\n",
    "        if l<r:\n",
    "            break\n",
    "        mod_ni_square[l] = mod_ni_square_table[i]\n",
    "    \n",
    "    return list(gcd(nums_sage[i],mod_ni_square[i]//nums_sage[i]) for i in range(length))[:origin_len]\n"
   ]
  },
  {
   "cell_type": "code",
   "execution_count": 33,
   "metadata": {},
   "outputs": [
    {
     "name": "stderr",
     "output_type": "stream",
     "text": [
      "100%|██████████| 15/15 [00:00<00:00, 175738.99it/s]\n",
      "100%|██████████| 14/14 [00:00<00:00, 170698.42it/s]\n"
     ]
    },
    {
     "data": {
      "text/plain": [
       "[3, 3, 1, 1, 1]"
      ]
     },
     "execution_count": 33,
     "metadata": {},
     "output_type": "execute_result"
    }
   ],
   "source": [
    "fast_pairwise_gcd_helper([6,9,11,17,13])"
   ]
  },
  {
   "cell_type": "code",
   "execution_count": 34,
   "metadata": {},
   "outputs": [
    {
     "name": "stdout",
     "output_type": "stream",
     "text": [
      "[1, 1, 101, 101, 1, 1]\n"
     ]
    },
    {
     "name": "stderr",
     "output_type": "stream",
     "text": [
      "100%|██████████| 15/15 [00:00<00:00, 173797.13it/s]\n",
      "100%|██████████| 14/14 [00:00<00:00, 109145.46it/s]"
     ]
    },
    {
     "name": "stdout",
     "output_type": "stream",
     "text": [
      "[1, 1, 101, 101, 1, 1]\n"
     ]
    },
    {
     "name": "stderr",
     "output_type": "stream",
     "text": [
      "\n"
     ]
    }
   ],
   "source": [
    "l = [17,13,101*2,101*3,61,79]\n",
    "print(fast_pairwise_gcd_helper_recursive(l))\n",
    "print(fast_pairwise_gcd_helper(l))"
   ]
  },
  {
   "cell_type": "code",
   "execution_count": 37,
   "metadata": {},
   "outputs": [],
   "source": [
    "with open(\"./moduli.sorted\") as fin:\n",
    "    lines = fin.readlines()\n",
    "    ns = list(map(lambda line:int(line.strip(),16),lines))"
   ]
  },
  {
   "cell_type": "code",
   "execution_count": 43,
   "metadata": {},
   "outputs": [
    {
     "name": "stderr",
     "output_type": "stream",
     "text": [
      "100%|██████████| 131072/131072 [18:37<00:00, 117.28it/s]\n"
     ]
    }
   ],
   "source": [
    "nums = ns\n",
    "\n",
    "length = len(nums)\n",
    "if length<2:\n",
    "    raise ValueError\n",
    "length_padded = 0\n",
    "for i in range(32):\n",
    "    if (1<<i)>=length:\n",
    "        length_padded = 1<<i\n",
    "        break\n",
    "nums+=[1]*(length_padded-length)\n",
    "origin_len,length = length,length_padded\n",
    "\n",
    "nums_sage = list(map(lambda x:Integer(x),nums))\n",
    "nums_square = list(map(lambda x:x**2,nums_sage))\n",
    "\n",
    "# total_product = Integer(1)\n",
    "# for num_s in (tqdm(nums_sage) if TQDM_ON else nums_sage):\n",
    "#     total_product*=num_s"
   ]
  },
  {
   "cell_type": "code",
   "execution_count": 45,
   "metadata": {},
   "outputs": [
    {
     "data": {
      "text/plain": [
       "30738564"
      ]
     },
     "execution_count": 45,
     "metadata": {},
     "output_type": "execute_result"
    }
   ],
   "source": [
    "# len(str(total_product))"
   ]
  },
  {
   "cell_type": "code",
   "execution_count": 56,
   "metadata": {},
   "outputs": [
    {
     "name": "stderr",
     "output_type": "stream",
     "text": [
      "100%|██████████| 262143/262143 [00:06<00:00, 40778.43it/s]  \n"
     ]
    }
   ],
   "source": [
    "index_pair_list = list()\n",
    "bfs_queue = deque([(0,length-1)])\n",
    "while len(bfs_queue)>0:\n",
    "    i_pair = bfs_queue.popleft()\n",
    "    index_pair_list.append(i_pair)\n",
    "    l,r=i_pair\n",
    "    if l<r:\n",
    "        m=(l+r)>>1\n",
    "        bfs_queue.append((l,m))\n",
    "        bfs_queue.append((m+1,r))\n",
    "# print(index_pair_list)\n",
    "    \n",
    "sq_product_table = [0]*len(index_pair_list)\n",
    "irange = range(len(index_pair_list)-1,-1,-1)\n",
    "if TQDM_ON:\n",
    "    irange = tqdm(irange)\n",
    "for i in irange:\n",
    "    l,r = index_pair_list[i]\n",
    "    if l==r:\n",
    "        sq_product_table[i] = nums_square[l]\n",
    "    else:\n",
    "        sq_product_table[i] = sq_product_table[2*i+1]*sq_product_table[2*i+2]\n"
   ]
  },
  {
   "cell_type": "code",
   "execution_count": 57,
   "metadata": {},
   "outputs": [
    {
     "name": "stderr",
     "output_type": "stream",
     "text": [
      "100%|██████████| 262143/262143 [00:02<00:00, 87525.06it/s]  \n"
     ]
    }
   ],
   "source": [
    "product_table = [0]*len(index_pair_list)\n",
    "irange = range(len(index_pair_list)-1,-1,-1)\n",
    "if TQDM_ON:\n",
    "    irange = tqdm(irange)\n",
    "for i in irange:\n",
    "    l,r = index_pair_list[i]\n",
    "    if l==r:\n",
    "        product_table[i] = nums_sage[l]\n",
    "    else:\n",
    "        product_table[i] = product_table[2*i+1]*product_table[2*i+2]"
   ]
  },
  {
   "cell_type": "code",
   "execution_count": 59,
   "metadata": {},
   "outputs": [],
   "source": [
    "total_product=product_table[0]"
   ]
  },
  {
   "cell_type": "code",
   "execution_count": 48,
   "metadata": {},
   "outputs": [
    {
     "data": {
      "text/plain": [
       "61477127"
      ]
     },
     "execution_count": 48,
     "metadata": {},
     "output_type": "execute_result"
    }
   ],
   "source": [
    "len(str(sq_product_table[0]))"
   ]
  },
  {
   "cell_type": "code",
   "execution_count": 47,
   "metadata": {},
   "outputs": [
    {
     "name": "stderr",
     "output_type": "stream",
     "text": [
      "100%|██████████| 262142/262142 [00:27<00:00, 9627.67it/s]  \n"
     ]
    }
   ],
   "source": [
    "mod_ni_square_table = [0]*len(index_pair_list)\n",
    "mod_ni_square_table[0] = total_product\n",
    "irange = range(1,len(index_pair_list))\n",
    "if TQDM_ON:\n",
    "    irange = tqdm(irange)\n",
    "for i in irange:\n",
    "    mod_ni_square_table[i] = mod_ni_square_table[(i-1)>>1]%sq_product_table[i]\n",
    "    \n",
    "mod_ni_square = [0]*length\n",
    "for i in range(len(index_pair_list)-1,-1,-1):\n",
    "    l,r = index_pair_list[i]\n",
    "    if l<r:\n",
    "        break\n",
    "    mod_ni_square[l] = mod_ni_square_table[i]\n",
    "    \n",
    "gcd_helper_res= list(gcd(nums_sage[i],mod_ni_square[i]//nums_sage[i]) for i in range(length))[:origin_len]"
   ]
  },
  {
   "cell_type": "code",
   "execution_count": 50,
   "metadata": {},
   "outputs": [],
   "source": [
    "have_gcd_lines_i = list()\n",
    "\n",
    "for i,r in enumerate(gcd_helper_res):\n",
    "    if r>1:\n",
    "        have_gcd_lines_i.append(i)"
   ]
  },
  {
   "cell_type": "code",
   "execution_count": 51,
   "metadata": {},
   "outputs": [
    {
     "data": {
      "text/plain": [
       "[71679, 81922]"
      ]
     },
     "execution_count": 51,
     "metadata": {},
     "output_type": "execute_result"
    }
   ],
   "source": [
    "have_gcd_lines_i"
   ]
  },
  {
   "cell_type": "code",
   "execution_count": 52,
   "metadata": {},
   "outputs": [],
   "source": [
    "a,b = have_gcd_lines_i"
   ]
  },
  {
   "cell_type": "code",
   "execution_count": 63,
   "metadata": {},
   "outputs": [],
   "source": [
    "n_a,n_b = int(lines[a],16),int(lines[b],16)"
   ]
  },
  {
   "cell_type": "code",
   "execution_count": 66,
   "metadata": {},
   "outputs": [],
   "source": [
    "p = int(gcd(n_a,n_b))"
   ]
  },
  {
   "cell_type": "code",
   "execution_count": 68,
   "metadata": {},
   "outputs": [],
   "source": [
    "q_a = n_a//p\n",
    "q_b = n_b//p"
   ]
  },
  {
   "cell_type": "code",
   "execution_count": 69,
   "metadata": {},
   "outputs": [],
   "source": [
    "def read_int(byte_arr:bytes):\n",
    "    if not isinstance(byte_arr,bytes):\n",
    "        raise ValueError\n",
    "    b_arr_list = list(byte_arr)\n",
    "    if len(b_arr_list)<4:\n",
    "        raise ValueError\n",
    "    big_int_byte_len = 0\n",
    "    for i in range(4):\n",
    "        big_int_byte_len += b_arr_list[i]<<(8*i)\n",
    "    if len(b_arr_list)<4+big_int_byte_len:\n",
    "        raise ValueError\n",
    "    res = 0\n",
    "    for byte_val in b_arr_list[4:4+big_int_byte_len]:\n",
    "        res = (res<<8)+byte_val\n",
    "    return res,bytes(b_arr_list[4+big_int_byte_len:])\n",
    "\n",
    "def fast_pow_with_mod(a:int,b:int,moder:int)->int:\n",
    "    res = 1\n",
    "    while b>0:\n",
    "        if b&1:\n",
    "            res = (res*a)%moder\n",
    "        a = (a*a)%moder\n",
    "        b>>=1\n",
    "    return res\n",
    "\n",
    "def extended_gcd(a, b):\n",
    "    if a == 0:\n",
    "        return (b, 0, 1)\n",
    "    else:\n",
    "        g, y, x = extended_gcd(b % a, a)\n",
    "        return (g, x - (b // a) * y, y)\n",
    "    \n",
    "def extended_euclidian(a,b):\n",
    "    if not isinstance(a,int):\n",
    "        raise ValueError\n",
    "    if not isinstance(b,int):\n",
    "        raise ValueError\n",
    "    if a<=0 or b<=0:\n",
    "        raise ValueError\n",
    "    num1,num2 = a,b\n",
    "    ka1,kb1,ka2,kb2=1,0,0,1\n",
    "    while num2>0:\n",
    "        floor_div_res = num1//num2\n",
    "        num3 = num1%num2\n",
    "        ka3,kb3=ka1-floor_div_res*ka2,kb1-floor_div_res*kb2\n",
    "        num1,ka1,kb1 = num2,ka2,kb2\n",
    "        num2,ka2,kb2 = num3,ka3,kb3\n",
    "    return num1,ka1,kb1\n",
    "\n",
    "def mod_inverse(a, m):\n",
    "    g, x, y = extended_euclidian(a, m)\n",
    "    if g != 1:\n",
    "        raise ValueError(f\"Modular inverse does not exist, a and m have gcd:{g}\")\n",
    "    else:\n",
    "        return x % m\n",
    "    \n",
    "def mod_inverse_of_prime(a,m_p):\n",
    "    a%=m_p\n",
    "    if a%m_p==0:\n",
    "        raise ValueError\n",
    "    return fast_pow_with_mod(a,m_p-2,m_p)"
   ]
  },
  {
   "cell_type": "code",
   "execution_count": 72,
   "metadata": {},
   "outputs": [],
   "source": [
    "def build_rsa_key(p,q,e):\n",
    "    n = p*q\n",
    "    phi_n = (p-1)*(q-1)\n",
    "    d = mod_inverse(e,phi_n)\n",
    "    return RSA.construct((n, e, d))"
   ]
  },
  {
   "cell_type": "code",
   "execution_count": 73,
   "metadata": {},
   "outputs": [
    {
     "data": {
      "text/plain": [
       "b'\\x03\\x00\\x00\\x00abc'"
      ]
     },
     "execution_count": 73,
     "metadata": {},
     "output_type": "execute_result"
    }
   ],
   "source": [
    "def bits_to_mpi(s):\n",
    "    return struct.pack('I',len(s))+s\n",
    "\n",
    "bits_to_mpi(b\"abc\")"
   ]
  },
  {
   "cell_type": "code",
   "execution_count": 78,
   "metadata": {},
   "outputs": [],
   "source": [
    "def read_bytes(b:bytes):\n",
    "    assert len(b)>=4\n",
    "    b_list = list(b)\n",
    "    length_representation = b_list[:4]\n",
    "    length = 0\n",
    "    for i in range(4):\n",
    "        length+=length_representation[i]<<(8*i)\n",
    "    assert len(b)>=4+length\n",
    "    return bytes(b_list[4:4+length]),bytes(b_list[4+length:])\n"
   ]
  },
  {
   "cell_type": "code",
   "execution_count": 79,
   "metadata": {},
   "outputs": [],
   "source": [
    "encrypt_header = '-----BEGIN PRETTY BAD ENCRYPTED MESSAGE-----\\n'\n",
    "encrypt_footer = '-----END PRETTY BAD ENCRYPTED MESSAGE-----\\n'\n",
    "with open(\"./hw6.pdf.enc.asc\") as fin:\n",
    "    enc_string_all = fin.read()\n",
    "\n",
    "assert enc_string_all.startswith(encrypt_header)\n",
    "assert enc_string_all.endswith(encrypt_footer)\n",
    "\n",
    "enc_msg_b64_encoded = enc_string_all[len(encrypt_header):-len(encrypt_footer)]\n",
    "enc_msg_bytes = base64.b64decode(enc_msg_b64_encoded)\n",
    "\n",
    "aeskey_rsa_encrypted,rest = read_bytes(enc_msg_bytes)\n",
    "iv = rest[:AES.block_size]\n",
    "origin_msg_aes_encrypted = rest[AES.block_size:]"
   ]
  },
  {
   "cell_type": "code",
   "execution_count": 81,
   "metadata": {},
   "outputs": [
    {
     "data": {
      "text/plain": [
       "0"
      ]
     },
     "execution_count": 81,
     "metadata": {},
     "output_type": "execute_result"
    }
   ],
   "source": [
    "len(origin_msg_aes_encrypted)%AES.block_size"
   ]
  },
  {
   "cell_type": "code",
   "execution_count": 84,
   "metadata": {},
   "outputs": [],
   "source": [
    "def dec(p,q,e):\n",
    "    rsa_key = build_rsa_key(p,q,e)\n",
    "    rsa_cipher = PKCS1_v1_5.new(rsa_key)\n",
    "    aes_key = rsa_cipher.decrypt(aeskey_rsa_encrypted,sentinel=None)\n",
    "    aes_cipher = AES.new(aes_key,AES.MODE_CBC,iv)\n",
    "    original_msg_bytes = aes_cipher.decrypt(origin_msg_aes_encrypted)\n",
    "    original_msg_bytes = original_msg_bytes[:-int(original_msg_bytes[-1])]\n",
    "    with open(\"./hw6.pdf\",\"wb+\") as fout:\n",
    "        fout.write(original_msg_bytes)"
   ]
  },
  {
   "cell_type": "code",
   "execution_count": 85,
   "metadata": {},
   "outputs": [],
   "source": [
    "e=65537\n",
    "dec(p,q_a,e)"
   ]
  }
 ],
 "metadata": {
  "kernelspec": {
   "display_name": "sage",
   "language": "python",
   "name": "python3"
  },
  "language_info": {
   "codemirror_mode": {
    "name": "ipython",
    "version": 3
   },
   "file_extension": ".py",
   "mimetype": "text/x-python",
   "name": "python",
   "nbconvert_exporter": "python",
   "pygments_lexer": "ipython3",
   "version": "3.9.18"
  }
 },
 "nbformat": 4,
 "nbformat_minor": 2
}
